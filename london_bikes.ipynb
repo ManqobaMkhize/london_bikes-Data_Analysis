import pandas as pd 
bikes = pd.read_csv("london_merged.csv")
bikes.info()
print(bikes.shape) #gives rows and columns
print(bikes.weather_code.value_counts())
print(bikes.season.value_counts())
new_cols_dict={
    'timestamp':'time',
    'cnt':'count',
    't1':'temp_real_C',
    't2':'temp_feels_like_C',
    'hum':'humidity_percent',
    'wind_speed':'wind_speed_kph',
    'weather_code':'weather',
    'is_holiday':'is_holiday',
    'is_weekend':'is_weekend',
    'season':'season'
}
bikes.rename(new_cols_dict,axis=1, inplace=True)
bikes.humidity_percent = bikes.humidity_percent/100

season_dict = {
    '0.0':'spring',
    '1.0':'summer',
    '2.0':'autumn',
    '3.0':'winter'
}

weather_dict = {
    '1.0': 'Clear',
    '2.0': 'Scattered clouds',
    '3.0': 'Broken clouds',
    '4.0': 'Cloudy',
    '7.0': 'Rain',
    '10.0': 'Rain with thunderstorm',
    '26.0': 'Snowfall'
}
#changing the seasons column data type to string
bikes.season = bikes.season.astype('str')
#mapping the values 0.3 to the actual written season
bikes.season = bikes.season.map(season_dict)

#changing the weather column data type to string
bikes.weather = bikes.weather.astype('str')
#mapping the values to the actual written weathers
bikes.weather = bikes.weather.map(weather_dict)

print(bikes.head())

#writing the final dataframe to an excel file that we will use in our Tableau visualisations.
bikes.to_excel('london_bikes_final.xlsx',sheet_name='Data')